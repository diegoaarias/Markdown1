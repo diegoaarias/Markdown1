{
 "cells": [
  {
   "cell_type": "markdown",
   "metadata": {},
   "source": [
    "# Lo más importante\n",
    "\n",
    "## <ul>\n",
    "  <li>Matemáticas</li>\n",
    "  <li>Programación</li>\n",
    "  <li>SQL</li>\n",
    "  <li>Python</li>\n",
    "</ul>\n",
    "\n",
    "![image](img/python.png)\n",
    "\n",
    "Para ser programador hay que tener **iniciativa**. Si tienes dudas, consulta la documentación. Hay una cantidad inmensa de información al respecto. Keep calm and go for it!\n",
    "\n",
    "En esta página se aprende mucho de python: [page with python course](https://www.kaggle.com/)"
   ]
  },
  {
   "cell_type": "markdown",
   "metadata": {},
   "source": [
    "| **Ramp Up** | **Data Analysis** | **Machine Learning** | **Data & Business** |\n",
    "|-------------|-------------------|----------------------|---------------------|\n",
    "| Python      | EDA               | Supervised           | Productivización    |\n",
    "| Estadística | R                 | Non supervised       | Storytelling        |\n",
    "| SQL         | Feat. Eng.        | Deep Learning        | API                 |\n",
    "\n",
    "\\( a + bx + c = 0 \\)^2"
   ]
  }
 ],
 "metadata": {
  "kernelspec": {
   "display_name": "Python 3",
   "language": "python",
   "name": "python3"
  },
  "language_info": {
   "codemirror_mode": {
    "name": "ipython",
    "version": 3
   },
   "file_extension": ".py",
   "mimetype": "text/x-python",
   "name": "python",
   "nbconvert_exporter": "python",
   "pygments_lexer": "ipython3",
   "version": "3.7.4"
  },
  "orig_nbformat": 4
 },
 "nbformat": 4,
 "nbformat_minor": 2
}
